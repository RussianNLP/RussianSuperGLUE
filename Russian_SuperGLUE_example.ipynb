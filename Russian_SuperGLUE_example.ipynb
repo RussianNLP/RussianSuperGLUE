{
  "nbformat": 4,
  "nbformat_minor": 0,
  "metadata": {
    "accelerator": "GPU",
    "colab": {
      "name": "Russian_SuperGLUE_example.ipynb",
      "provenance": [],
      "collapsed_sections": []
    },
    "kernelspec": {
      "display_name": "Python 3",
      "language": "python",
      "name": "python3"
    },
    "language_info": {
      "codemirror_mode": {
        "name": "ipython",
        "version": 3
      },
      "file_extension": ".py",
      "mimetype": "text/x-python",
      "name": "python",
      "nbconvert_exporter": "python",
      "pygments_lexer": "ipython3",
      "version": "3.6.4"
    }
  },
  "cells": [
    {
      "cell_type": "code",
      "metadata": {
        "colab": {
          "base_uri": "https://localhost:8080/"
        },
        "id": "uu9C3-LgY-zx",
        "outputId": "78658f52-aac0-490b-fe6c-c55f0645c1b9"
      },
      "source": [
        "import pandas as pd\n",
        "import re\n",
        "import numpy\n",
        "import os\n",
        "###!!! Attention!!! Для корректной работы jiant необходима версия allennlp===0.9.0\n",
        "### и версия трансформеров transformers==2.11.0\n",
        "### с более поздними версиями могут возникнуть проблемы в совместимости\n",
        "!pip install transformers allennlp===0.9.0\n",
        "!pip install transformers==2.11.0\n",
        "!pip install jsondiff\n",
        "!pip install pyhocon\n",
        "!pip install python-Levenshtein"
      ],
      "execution_count": 1,
      "outputs": [
        {
          "output_type": "stream",
          "text": [
            "Requirement already satisfied: transformers in /usr/local/lib/python3.7/dist-packages (2.11.0)\n",
            "Requirement already satisfied: allennlp===0.9.0 in /usr/local/lib/python3.7/dist-packages (0.9.0)\n",
            "Requirement already satisfied: regex!=2019.12.17 in /usr/local/lib/python3.7/dist-packages (from transformers) (2019.12.20)\n",
            "Requirement already satisfied: filelock in /usr/local/lib/python3.7/dist-packages (from transformers) (3.0.12)\n",
            "Requirement already satisfied: tokenizers==0.7.0 in /usr/local/lib/python3.7/dist-packages (from transformers) (0.7.0)\n",
            "Requirement already satisfied: packaging in /usr/local/lib/python3.7/dist-packages (from transformers) (20.9)\n",
            "Requirement already satisfied: sacremoses in /usr/local/lib/python3.7/dist-packages (from transformers) (0.0.44)\n",
            "Requirement already satisfied: numpy in /usr/local/lib/python3.7/dist-packages (from transformers) (1.19.5)\n",
            "Requirement already satisfied: sentencepiece in /usr/local/lib/python3.7/dist-packages (from transformers) (0.1.95)\n",
            "Requirement already satisfied: requests in /usr/local/lib/python3.7/dist-packages (from transformers) (2.23.0)\n",
            "Requirement already satisfied: tqdm>=4.27 in /usr/local/lib/python3.7/dist-packages (from transformers) (4.41.1)\n",
            "Requirement already satisfied: flask>=1.0.2 in /usr/local/lib/python3.7/dist-packages (from allennlp===0.9.0) (1.1.2)\n",
            "Requirement already satisfied: editdistance in /usr/local/lib/python3.7/dist-packages (from allennlp===0.9.0) (0.5.3)\n",
            "Requirement already satisfied: gevent>=1.3.6 in /usr/local/lib/python3.7/dist-packages (from allennlp===0.9.0) (21.1.2)\n",
            "Requirement already satisfied: pytorch-pretrained-bert>=0.6.0 in /usr/local/lib/python3.7/dist-packages (from allennlp===0.9.0) (0.6.2)\n",
            "Requirement already satisfied: nltk in /usr/local/lib/python3.7/dist-packages (from allennlp===0.9.0) (3.2.5)\n",
            "Requirement already satisfied: pytz>=2017.3 in /usr/local/lib/python3.7/dist-packages (from allennlp===0.9.0) (2018.9)\n",
            "Requirement already satisfied: matplotlib>=2.2.3 in /usr/local/lib/python3.7/dist-packages (from allennlp===0.9.0) (3.2.2)\n",
            "Requirement already satisfied: overrides in /usr/local/lib/python3.7/dist-packages (from allennlp===0.9.0) (3.1.0)\n",
            "Requirement already satisfied: ftfy in /usr/local/lib/python3.7/dist-packages (from allennlp===0.9.0) (6.0)\n",
            "Requirement already satisfied: responses>=0.7 in /usr/local/lib/python3.7/dist-packages (from allennlp===0.9.0) (0.13.2)\n",
            "Requirement already satisfied: spacy<2.2,>=2.1.0 in /usr/local/lib/python3.7/dist-packages (from allennlp===0.9.0) (2.1.9)\n",
            "Requirement already satisfied: boto3 in /usr/local/lib/python3.7/dist-packages (from allennlp===0.9.0) (1.17.51)\n",
            "Requirement already satisfied: jsonpickle in /usr/local/lib/python3.7/dist-packages (from allennlp===0.9.0) (2.0.0)\n",
            "Requirement already satisfied: numpydoc>=0.8.0 in /usr/local/lib/python3.7/dist-packages (from allennlp===0.9.0) (1.1.0)\n",
            "Requirement already satisfied: torch>=1.2.0 in /usr/local/lib/python3.7/dist-packages (from allennlp===0.9.0) (1.8.1+cu101)\n",
            "Requirement already satisfied: scikit-learn in /usr/local/lib/python3.7/dist-packages (from allennlp===0.9.0) (0.22.2.post1)\n",
            "Requirement already satisfied: flask-cors>=3.0.7 in /usr/local/lib/python3.7/dist-packages (from allennlp===0.9.0) (3.0.10)\n",
            "Requirement already satisfied: pytest in /usr/local/lib/python3.7/dist-packages (from allennlp===0.9.0) (3.6.4)\n",
            "Requirement already satisfied: pytorch-transformers==1.1.0 in /usr/local/lib/python3.7/dist-packages (from allennlp===0.9.0) (1.1.0)\n",
            "Requirement already satisfied: word2number>=1.1 in /usr/local/lib/python3.7/dist-packages (from allennlp===0.9.0) (1.1)\n",
            "Requirement already satisfied: tensorboardX>=1.2 in /usr/local/lib/python3.7/dist-packages (from allennlp===0.9.0) (2.2)\n",
            "Requirement already satisfied: scipy in /usr/local/lib/python3.7/dist-packages (from allennlp===0.9.0) (1.4.1)\n",
            "Requirement already satisfied: unidecode in /usr/local/lib/python3.7/dist-packages (from allennlp===0.9.0) (1.2.0)\n",
            "Requirement already satisfied: flaky in /usr/local/lib/python3.7/dist-packages (from allennlp===0.9.0) (3.7.0)\n",
            "Requirement already satisfied: conllu==1.3.1 in /usr/local/lib/python3.7/dist-packages (from allennlp===0.9.0) (1.3.1)\n",
            "Requirement already satisfied: parsimonious>=0.8.0 in /usr/local/lib/python3.7/dist-packages (from allennlp===0.9.0) (0.8.1)\n",
            "Requirement already satisfied: jsonnet>=0.10.0; sys_platform != \"win32\" in /usr/local/lib/python3.7/dist-packages (from allennlp===0.9.0) (0.17.0)\n",
            "Requirement already satisfied: sqlparse>=0.2.4 in /usr/local/lib/python3.7/dist-packages (from allennlp===0.9.0) (0.4.1)\n",
            "Requirement already satisfied: h5py in /usr/local/lib/python3.7/dist-packages (from allennlp===0.9.0) (2.10.0)\n",
            "Requirement already satisfied: pyparsing>=2.0.2 in /usr/local/lib/python3.7/dist-packages (from packaging->transformers) (2.4.7)\n",
            "Requirement already satisfied: click in /usr/local/lib/python3.7/dist-packages (from sacremoses->transformers) (7.1.2)\n",
            "Requirement already satisfied: joblib in /usr/local/lib/python3.7/dist-packages (from sacremoses->transformers) (1.0.1)\n",
            "Requirement already satisfied: six in /usr/local/lib/python3.7/dist-packages (from sacremoses->transformers) (1.15.0)\n",
            "Requirement already satisfied: certifi>=2017.4.17 in /usr/local/lib/python3.7/dist-packages (from requests->transformers) (2020.12.5)\n",
            "Requirement already satisfied: urllib3!=1.25.0,!=1.25.1,<1.26,>=1.21.1 in /usr/local/lib/python3.7/dist-packages (from requests->transformers) (1.24.3)\n",
            "Requirement already satisfied: idna<3,>=2.5 in /usr/local/lib/python3.7/dist-packages (from requests->transformers) (2.10)\n",
            "Requirement already satisfied: chardet<4,>=3.0.2 in /usr/local/lib/python3.7/dist-packages (from requests->transformers) (3.0.4)\n",
            "Requirement already satisfied: Werkzeug>=0.15 in /usr/local/lib/python3.7/dist-packages (from flask>=1.0.2->allennlp===0.9.0) (1.0.1)\n",
            "Requirement already satisfied: itsdangerous>=0.24 in /usr/local/lib/python3.7/dist-packages (from flask>=1.0.2->allennlp===0.9.0) (1.1.0)\n",
            "Requirement already satisfied: Jinja2>=2.10.1 in /usr/local/lib/python3.7/dist-packages (from flask>=1.0.2->allennlp===0.9.0) (2.11.3)\n",
            "Requirement already satisfied: setuptools in /usr/local/lib/python3.7/dist-packages (from gevent>=1.3.6->allennlp===0.9.0) (54.2.0)\n",
            "Requirement already satisfied: greenlet<2.0,>=0.4.17; platform_python_implementation == \"CPython\" in /usr/local/lib/python3.7/dist-packages (from gevent>=1.3.6->allennlp===0.9.0) (1.0.0)\n",
            "Requirement already satisfied: zope.event in /usr/local/lib/python3.7/dist-packages (from gevent>=1.3.6->allennlp===0.9.0) (4.5.0)\n",
            "Requirement already satisfied: zope.interface in /usr/local/lib/python3.7/dist-packages (from gevent>=1.3.6->allennlp===0.9.0) (5.3.0)\n",
            "Requirement already satisfied: kiwisolver>=1.0.1 in /usr/local/lib/python3.7/dist-packages (from matplotlib>=2.2.3->allennlp===0.9.0) (1.3.1)\n",
            "Requirement already satisfied: python-dateutil>=2.1 in /usr/local/lib/python3.7/dist-packages (from matplotlib>=2.2.3->allennlp===0.9.0) (2.8.1)\n",
            "Requirement already satisfied: cycler>=0.10 in /usr/local/lib/python3.7/dist-packages (from matplotlib>=2.2.3->allennlp===0.9.0) (0.10.0)\n",
            "Requirement already satisfied: wcwidth in /usr/local/lib/python3.7/dist-packages (from ftfy->allennlp===0.9.0) (0.2.5)\n",
            "Requirement already satisfied: blis<0.3.0,>=0.2.2 in /usr/local/lib/python3.7/dist-packages (from spacy<2.2,>=2.1.0->allennlp===0.9.0) (0.2.4)\n",
            "Requirement already satisfied: srsly<1.1.0,>=0.0.6 in /usr/local/lib/python3.7/dist-packages (from spacy<2.2,>=2.1.0->allennlp===0.9.0) (1.0.5)\n",
            "Requirement already satisfied: cymem<2.1.0,>=2.0.2 in /usr/local/lib/python3.7/dist-packages (from spacy<2.2,>=2.1.0->allennlp===0.9.0) (2.0.5)\n",
            "Requirement already satisfied: wasabi<1.1.0,>=0.2.0 in /usr/local/lib/python3.7/dist-packages (from spacy<2.2,>=2.1.0->allennlp===0.9.0) (0.8.2)\n",
            "Requirement already satisfied: plac<1.0.0,>=0.9.6 in /usr/local/lib/python3.7/dist-packages (from spacy<2.2,>=2.1.0->allennlp===0.9.0) (0.9.6)\n",
            "Requirement already satisfied: thinc<7.1.0,>=7.0.8 in /usr/local/lib/python3.7/dist-packages (from spacy<2.2,>=2.1.0->allennlp===0.9.0) (7.0.8)\n",
            "Requirement already satisfied: murmurhash<1.1.0,>=0.28.0 in /usr/local/lib/python3.7/dist-packages (from spacy<2.2,>=2.1.0->allennlp===0.9.0) (1.0.5)\n",
            "Requirement already satisfied: preshed<2.1.0,>=2.0.1 in /usr/local/lib/python3.7/dist-packages (from spacy<2.2,>=2.1.0->allennlp===0.9.0) (2.0.1)\n",
            "Requirement already satisfied: botocore<1.21.0,>=1.20.51 in /usr/local/lib/python3.7/dist-packages (from boto3->allennlp===0.9.0) (1.20.51)\n",
            "Requirement already satisfied: jmespath<1.0.0,>=0.7.1 in /usr/local/lib/python3.7/dist-packages (from boto3->allennlp===0.9.0) (0.10.0)\n",
            "Requirement already satisfied: s3transfer<0.4.0,>=0.3.0 in /usr/local/lib/python3.7/dist-packages (from boto3->allennlp===0.9.0) (0.3.7)\n",
            "Requirement already satisfied: importlib-metadata; python_version < \"3.8\" in /usr/local/lib/python3.7/dist-packages (from jsonpickle->allennlp===0.9.0) (3.10.0)\n",
            "Requirement already satisfied: sphinx>=1.6.5 in /usr/local/lib/python3.7/dist-packages (from numpydoc>=0.8.0->allennlp===0.9.0) (1.8.5)\n",
            "Requirement already satisfied: typing-extensions in /usr/local/lib/python3.7/dist-packages (from torch>=1.2.0->allennlp===0.9.0) (3.7.4.3)\n",
            "Requirement already satisfied: attrs>=17.4.0 in /usr/local/lib/python3.7/dist-packages (from pytest->allennlp===0.9.0) (20.3.0)\n",
            "Requirement already satisfied: pluggy<0.8,>=0.5 in /usr/local/lib/python3.7/dist-packages (from pytest->allennlp===0.9.0) (0.7.1)\n",
            "Requirement already satisfied: more-itertools>=4.0.0 in /usr/local/lib/python3.7/dist-packages (from pytest->allennlp===0.9.0) (8.7.0)\n",
            "Requirement already satisfied: py>=1.5.0 in /usr/local/lib/python3.7/dist-packages (from pytest->allennlp===0.9.0) (1.10.0)\n",
            "Requirement already satisfied: atomicwrites>=1.0 in /usr/local/lib/python3.7/dist-packages (from pytest->allennlp===0.9.0) (1.4.0)\n",
            "Requirement already satisfied: protobuf>=3.8.0 in /usr/local/lib/python3.7/dist-packages (from tensorboardX>=1.2->allennlp===0.9.0) (3.12.4)\n",
            "Requirement already satisfied: MarkupSafe>=0.23 in /usr/local/lib/python3.7/dist-packages (from Jinja2>=2.10.1->flask>=1.0.2->allennlp===0.9.0) (1.1.1)\n",
            "Requirement already satisfied: zipp>=0.5 in /usr/local/lib/python3.7/dist-packages (from importlib-metadata; python_version < \"3.8\"->jsonpickle->allennlp===0.9.0) (3.4.1)\n",
            "Requirement already satisfied: imagesize in /usr/local/lib/python3.7/dist-packages (from sphinx>=1.6.5->numpydoc>=0.8.0->allennlp===0.9.0) (1.2.0)\n",
            "Requirement already satisfied: snowballstemmer>=1.1 in /usr/local/lib/python3.7/dist-packages (from sphinx>=1.6.5->numpydoc>=0.8.0->allennlp===0.9.0) (2.1.0)\n",
            "Requirement already satisfied: sphinxcontrib-websupport in /usr/local/lib/python3.7/dist-packages (from sphinx>=1.6.5->numpydoc>=0.8.0->allennlp===0.9.0) (1.2.4)\n",
            "Requirement already satisfied: babel!=2.0,>=1.3 in /usr/local/lib/python3.7/dist-packages (from sphinx>=1.6.5->numpydoc>=0.8.0->allennlp===0.9.0) (2.9.0)\n",
            "Requirement already satisfied: alabaster<0.8,>=0.7 in /usr/local/lib/python3.7/dist-packages (from sphinx>=1.6.5->numpydoc>=0.8.0->allennlp===0.9.0) (0.7.12)\n",
            "Requirement already satisfied: docutils>=0.11 in /usr/local/lib/python3.7/dist-packages (from sphinx>=1.6.5->numpydoc>=0.8.0->allennlp===0.9.0) (0.17)\n",
            "Requirement already satisfied: Pygments>=2.0 in /usr/local/lib/python3.7/dist-packages (from sphinx>=1.6.5->numpydoc>=0.8.0->allennlp===0.9.0) (2.6.1)\n",
            "Requirement already satisfied: sphinxcontrib-serializinghtml in /usr/local/lib/python3.7/dist-packages (from sphinxcontrib-websupport->sphinx>=1.6.5->numpydoc>=0.8.0->allennlp===0.9.0) (1.1.4)\n",
            "Requirement already satisfied: transformers==2.11.0 in /usr/local/lib/python3.7/dist-packages (2.11.0)\n",
            "Requirement already satisfied: tokenizers==0.7.0 in /usr/local/lib/python3.7/dist-packages (from transformers==2.11.0) (0.7.0)\n",
            "Requirement already satisfied: regex!=2019.12.17 in /usr/local/lib/python3.7/dist-packages (from transformers==2.11.0) (2019.12.20)\n",
            "Requirement already satisfied: sacremoses in /usr/local/lib/python3.7/dist-packages (from transformers==2.11.0) (0.0.44)\n",
            "Requirement already satisfied: requests in /usr/local/lib/python3.7/dist-packages (from transformers==2.11.0) (2.23.0)\n",
            "Requirement already satisfied: numpy in /usr/local/lib/python3.7/dist-packages (from transformers==2.11.0) (1.19.5)\n",
            "Requirement already satisfied: packaging in /usr/local/lib/python3.7/dist-packages (from transformers==2.11.0) (20.9)\n",
            "Requirement already satisfied: filelock in /usr/local/lib/python3.7/dist-packages (from transformers==2.11.0) (3.0.12)\n",
            "Requirement already satisfied: sentencepiece in /usr/local/lib/python3.7/dist-packages (from transformers==2.11.0) (0.1.95)\n",
            "Requirement already satisfied: tqdm>=4.27 in /usr/local/lib/python3.7/dist-packages (from transformers==2.11.0) (4.41.1)\n",
            "Requirement already satisfied: joblib in /usr/local/lib/python3.7/dist-packages (from sacremoses->transformers==2.11.0) (1.0.1)\n",
            "Requirement already satisfied: six in /usr/local/lib/python3.7/dist-packages (from sacremoses->transformers==2.11.0) (1.15.0)\n",
            "Requirement already satisfied: click in /usr/local/lib/python3.7/dist-packages (from sacremoses->transformers==2.11.0) (7.1.2)\n",
            "Requirement already satisfied: idna<3,>=2.5 in /usr/local/lib/python3.7/dist-packages (from requests->transformers==2.11.0) (2.10)\n",
            "Requirement already satisfied: certifi>=2017.4.17 in /usr/local/lib/python3.7/dist-packages (from requests->transformers==2.11.0) (2020.12.5)\n",
            "Requirement already satisfied: chardet<4,>=3.0.2 in /usr/local/lib/python3.7/dist-packages (from requests->transformers==2.11.0) (3.0.4)\n",
            "Requirement already satisfied: urllib3!=1.25.0,!=1.25.1,<1.26,>=1.21.1 in /usr/local/lib/python3.7/dist-packages (from requests->transformers==2.11.0) (1.24.3)\n",
            "Requirement already satisfied: pyparsing>=2.0.2 in /usr/local/lib/python3.7/dist-packages (from packaging->transformers==2.11.0) (2.4.7)\n",
            "Requirement already satisfied: jsondiff in /usr/local/lib/python3.7/dist-packages (1.2.0)\n",
            "Requirement already satisfied: pyhocon in /usr/local/lib/python3.7/dist-packages (0.3.57)\n",
            "Requirement already satisfied: pyparsing>=2.0.3 in /usr/local/lib/python3.7/dist-packages (from pyhocon) (2.4.7)\n",
            "Requirement already satisfied: python-Levenshtein in /usr/local/lib/python3.7/dist-packages (0.12.2)\n",
            "Requirement already satisfied: setuptools in /usr/local/lib/python3.7/dist-packages (from python-Levenshtein) (54.2.0)\n"
          ],
          "name": "stdout"
        }
      ]
    },
    {
      "cell_type": "markdown",
      "metadata": {
        "id": "9WtjPCJAckV8"
      },
      "source": [
        "**Пример запуска baseline модели для Russian-SUPERGlue**\n",
        "\n"
      ]
    },
    {
      "cell_type": "code",
      "metadata": {
        "id": "81SBfVUmZB7u"
      },
      "source": [
        "#!unzip jiant-russian-v2.zip\n",
        "os.chdir('./jiant-russian-v2/')"
      ],
      "execution_count": 2,
      "outputs": []
    },
    {
      "cell_type": "markdown",
      "metadata": {
        "id": "DP1fs9zdfaij"
      },
      "source": [
        "**Настройка config'а**\n",
        "\n",
        "\n",
        "Для работы pipelin'а необходимо указать путь к данным и путь для сохранения модели в  `user_config.sh`:\n",
        "\n",
        "1) `export JIANT_DATA_DIR=./combined/` - путь к данным для тасков. По умолчанию указана папка `combined`, которую необходимо поместить в корневую директорию.\n",
        "\n",
        "2) `export JIANT_PROJECT_PREFIX=./model_dir/` - путь, где сохраняются модели, логи, результаты предсказания. По умолчанию указана `./model_dir/`.\n",
        "\n",
        "Параметры, специфичные для модели и параметры обучения указываются в конфиге модели: `jiant/config/superglue_bert.conf`. \n",
        "\n",
        "\n",
        "Например, там задается:\n",
        "\n",
        " `input_module` - используемая [hugging face](https://huggingface.co/models) модель (по умолчанию `\"DeepPavlov/rubert-base-cased-conversational\"`). На текущий момент поддерживаются следующие модели:\n",
        " ```\n",
        " DeepPavlov/rubert-base-cased\n",
        " DeepPavlov/rubert-base-cased-conversational\n",
        " DeepPavlov/rubert-base-cased-sentence\n",
        " bert-base-multilingual-cased\n",
        " bert-base-multilingual-uncased \n",
        " sberbank-ai/rugpt3large_based_on_gpt2\n",
        " sberbank-ai/rugpt3medium_based_on_gpt2\n",
        " sberbank-ai/rugpt3small_based_on_gpt2\n",
        " sberbank-ai/rugpt2large\n",
        " ```\n",
        " и другие модели, имплементированные в оригинальной библиотеке [jiant](https://github.com/nyu-mll/jiant).\n",
        "\n",
        "\n",
        " `exp_name` - короткое название эксперимента, по умолчанию `rubert`\n",
        " \n",
        " **Attention** Если вы перезапускаете экперимент для конкретного таска, например, с другими параметрами или после неудачного запуска, лучше изменить название `exp_name`, дабы избежать нежелательной подгрузки из кэша.\n",
        "\n",
        " `max_val, max_epochs, learning_rate` и другие.\n",
        "\n",
        "**Замечание** Для gpt моделей, возможно, также стоит добавить дополнительные параметры, накие как: \n",
        "\n",
        "`max_grad_norm = 1`\n",
        "`grad_clipping = 1`\n",
        "\n",
        "\n",
        "\n",
        "**Данные** \n",
        "\n",
        "Данные можно скачать с сайта [RussianGLUE](https://russiansuperglue.com/tasks/). По [ссылке](https://russiansuperglue.com/tasks/download) можно скачать данные для всех таксков разом. Дальше достаточно будет разархивировать архив и указать путь к нему в качестве `export JIANT_PROJECT_PREFIX=` в конфиге.\n",
        "\n",
        "**Структура данных**\n",
        "\n",
        "Данные для каждого из заданий должны лежать в подпапке с аналогичным названием в `export JIANT_PROJECT_PREFIX=` (в [общем архиве с данными](https://russiansuperglue.com/tasks/download) как раз такая струтура): \n",
        "\n",
        "1) DaNetQa\n",
        "\n",
        "2) LiDiRus\n",
        "\n",
        "3) MuSeRC\n",
        "\n",
        "4) PARus\n",
        "\n",
        "5) RCB\n",
        "\n",
        "6) RuCoS\n",
        "\n",
        "7) RUSSE\n",
        "\n",
        "8) RWSD\n",
        "\n",
        "9) TERRa\n",
        "\n",
        "Для запуска всех тасков кроме диагностического LiDiRus в папке должны находиться `train.jsonl, val.jsonl, test.jsonl`. Для LiDiRus в соответствующую папку надо положить `LiDiRus.jsonl`.\n",
        "\n"
      ]
    },
    {
      "cell_type": "markdown",
      "metadata": {
        "id": "l0vzVwEdDN7d"
      },
      "source": [
        "**Запуск baseline**\n",
        "\n",
        "Запуска baselin'ов осуществляется с помощью скрипта `./scripts/russian-superglue-baselines.sh`. Для обучения модели и получения предсказаний необходимо запустить скрипт с указанием необходимого таска (предсказания для диагностического `LiDiRus` вычисляются при обучении на TERRa, то есть при запуске terra модель делает предсказания как для terra_test, так и для lidirus.\n",
        "\n",
        "\n",
        "**Usage:**\n",
        "```\n",
        "   ./scripts/superglue-baselines.sh ${TASK} ${GPU_ID} ${SEED}\n",
        "   - TASK: one of {\"danetqa\", \"rcb\", \"parus\", \"muserc\", \"rucos\", \"terra\", \"russe\", \"rwsd\", \"all\"},\n",
        "\n",
        "   - GPU_ID: GPU to use, or -1 for CPU. Defaults to 0.\n",
        "   - SEED: random seed. Defaults to 111.\n",
        "```\n",
        "\n",
        "Для запуска всех тасков необходимо выбрать опцию `all.` При этом таски запускаются в следующем порядке (`LidiRus` вызывается внутри `TERRa`):     \n",
        "```    \n",
        "    rwsd\n",
        "    russe\n",
        "    terra\n",
        "    rucos\n",
        "    muserc\n",
        "    parus\n",
        "    rcb\n",
        "    danetqa\n",
        "```\n",
        "\n",
        "Ниже приведен пример базового запуска для задания `TERRa`."
      ]
    },
    {
      "cell_type": "code",
      "metadata": {
        "id": "BVwaqEzyZMTO"
      },
      "source": [
        "!chmod 755 ./scripts/russian-superglue-baselines.sh \n",
        "! ./scripts/russian-superglue-baselines.sh \"terra\""
      ],
      "execution_count": 4,
      "outputs": []
    },
    {
      "cell_type": "markdown",
      "metadata": {
        "id": "WRHu4aNSFrSy"
      },
      "source": [
        "**Results**\n",
        "\n",
        "Результаты сохраняются в `model_dir/exp_name/task_name`. \n",
        "\n",
        "Скоры модели на валидации по всем отработанным таскам записываются в `model_dir/exp_name/results.tsv`. \n"
      ]
    },
    {
      "cell_type": "code",
      "metadata": {
        "colab": {
          "base_uri": "https://localhost:8080/",
          "height": 54
        },
        "id": "Ep3uiYoIEUO9",
        "outputId": "0093ecc1-5a28-487e-c9e0-22659417282a"
      },
      "source": [
        "#TERRa results\n",
        "print(open('./model_dir/rubert/results.tsv').readlines()[-1])"
      ],
      "execution_count": null,
      "outputs": [
        {
          "output_type": "stream",
          "text": [
            "terra\tmicro_avg: 0.658, macro_avg: 0.658, terra_accuracy: 0.658\n",
            "\n"
          ],
          "name": "stdout"
        }
      ]
    },
    {
      "cell_type": "code",
      "metadata": {
        "colab": {
          "base_uri": "https://localhost:8080/",
          "height": 74
        },
        "id": "fEaFbsarEYm0",
        "outputId": "abbe97cd-4296-4781-b337-3b0070c927f1"
      },
      "source": [
        "#LiDiRus results\n",
        "print(open('./model_dir/rubert/results.tsv').readlines()[0])"
      ],
      "execution_count": null,
      "outputs": [
        {
          "output_type": "stream",
          "text": [
            "terra\tmicro_avg: 0.000, macro_avg: 0.000, lidirus_lex_sem: -0.067, lidirus_lex_sem__Redundancy: 0.060, lidirus_lex_sem__Symmetry/Collectivity: 0.175, lidirus_lex_sem__Named entities: -0.169, lidirus_lex_sem__Lexical entailment;Quantifiers: 0.000, lidirus_lex_sem__Lexical entailment: -0.030, lidirus_lex_sem__Quantifiers: -0.219, lidirus_lex_sem__Lexical entailment;Factivity: 0.000, lidirus_lex_sem__Factivity;Quantifiers: 0.000, lidirus_lex_sem__Factivity: 0.043, lidirus_pr_ar_str: -0.152, lidirus_pr_ar_str__Intersectivity;Ellipsis/Implicits: 0.000, lidirus_pr_ar_str__Coordination scope;Prepositional phrases: 0.000, lidirus_pr_ar_str__Coordination scope: 0.000, lidirus_pr_ar_str__Active/Passive;Prepositional phrases: 0.000, lidirus_pr_ar_str__Core args: 0.065, lidirus_pr_ar_str__Active/Passive: -0.333, lidirus_pr_ar_str__Restrictivity;Anaphora/Coreference: 0.000, lidirus_pr_ar_str__Genitives/Partitives: 0.000, lidirus_pr_ar_str__Relative clauses;Restrictivity: 0.000, lidirus_pr_ar_str__Anaphora/Coreference;Prepositional phrases: 0.000, lidirus_pr_ar_str__Ellipsis/Implicits;Anaphora/Coreference: 0.000, lidirus_pr_ar_str__Relative clauses: 0.000, lidirus_pr_ar_str__Restrictivity;Relative clauses: 0.000, lidirus_pr_ar_str__Nominalization: 0.000, lidirus_pr_ar_str__Datives: -0.509, lidirus_pr_ar_str__Ellipsis/Implicits: 0.000, lidirus_pr_ar_str__Core args;Anaphora/Coreference: -0.333, lidirus_pr_ar_str__Relative clauses;Anaphora/Coreference: 0.000, lidirus_pr_ar_str__Anaphora/Coreference: -0.218, lidirus_pr_ar_str__Nominalization;Genitives/Partitives: 0.000, lidirus_pr_ar_str__Restrictivity: 0.000, lidirus_pr_ar_str__Intersectivity: -0.054, lidirus_logic: -0.100, lidirus_logic__Conjunction;Negation: 0.000, lidirus_logic__Universal;Conjunction: 0.000, lidirus_logic__Non-monotone: 0.000, lidirus_logic__Disjunction;Conjunction: 0.000, lidirus_logic__Negation;Conditionals: 0.000, lidirus_logic__Negation: -0.077, lidirus_logic__Intervals/Numbers: 0.169, lidirus_logic__Double negation: -0.469, lidirus_logic__Downward monotone;Existential;Negation: 0.000, lidirus_logic__Disjunction;Non-monotone: 0.000, lidirus_logic__Intervals/Numbers;Non-monotone: 0.000, lidirus_logic__Downward monotone;Conditionals: 0.000, lidirus_logic__Temporal;Intervals/Numbers: 0.000, lidirus_logic__Disjunction;Conditionals;Negation: -1.000, lidirus_logic__Temporal: 0.061, lidirus_logic__Temporal;Conjunction: 0.000, lidirus_logic__Conditionals: 0.000, lidirus_logic__Double negation;Negation: 0.000, lidirus_logic__Disjunction;Negation: -0.200, lidirus_logic__Universal: -0.389, lidirus_logic__Downward monotone: 0.045, lidirus_logic__Existential;Negation: 0.000, lidirus_logic__Existential: -0.207, lidirus_logic__Universal;Negation: 0.000, lidirus_logic__Upward monotone: -0.067, lidirus_logic__Conjunction: 0.000, lidirus_logic__Existential;Upward monotone: 0.000, lidirus_logic__Disjunction: 0.262, lidirus_knowledge: -0.065, lidirus_knowledge__Common sense: -0.106, lidirus_all_mcc: -0.101, lidirus_accuracy: 0.545\n",
            "\n"
          ],
          "name": "stdout"
        }
      ]
    },
    {
      "cell_type": "code",
      "metadata": {
        "id": "8KYjfbq5FbnR"
      },
      "source": [
        ""
      ],
      "execution_count": null,
      "outputs": []
    }
  ]
}